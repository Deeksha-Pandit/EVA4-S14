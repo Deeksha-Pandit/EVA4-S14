{
  "nbformat": 4,
  "nbformat_minor": 0,
  "metadata": {
    "colab": {
      "name": "Untitled",
      "provenance": [],
      "authorship_tag": "ABX9TyMxWN8skRZ5x+Gl5p+52qTO",
      "include_colab_link": true
    },
    "kernelspec": {
      "name": "python3",
      "display_name": "Python 3"
    }
  },
  "cells": [
    {
      "cell_type": "markdown",
      "metadata": {
        "id": "view-in-github",
        "colab_type": "text"
      },
      "source": [
        "<a href=\"https://colab.research.google.com/github/Deeksha-Pandit/EVA4-S14/blob/master/Count_files_gdrive.ipynb\" target=\"_parent\"><img src=\"https://colab.research.google.com/assets/colab-badge.svg\" alt=\"Open In Colab\"/></a>"
      ]
    },
    {
      "cell_type": "code",
      "metadata": {
        "id": "fufgNIcynKii",
        "colab_type": "code",
        "outputId": "0b4ce93d-868b-454e-d59b-84634a785e0f",
        "colab": {
          "base_uri": "https://localhost:8080/",
          "height": 55
        }
      },
      "source": [
        "from google.colab import drive\n",
        "drive.mount('/content/gdrive')"
      ],
      "execution_count": 16,
      "outputs": [
        {
          "output_type": "stream",
          "text": [
            "Drive already mounted at /content/gdrive; to attempt to forcibly remount, call drive.mount(\"/content/gdrive\", force_remount=True).\n"
          ],
          "name": "stdout"
        }
      ]
    },
    {
      "cell_type": "code",
      "metadata": {
        "id": "6YcTjX0knYjp",
        "colab_type": "code",
        "outputId": "ba650889-8e24-4f7d-dc1c-c801f5f0834a",
        "colab": {
          "base_uri": "https://localhost:8080/",
          "height": 35
        }
      },
      "source": [
        "count1=0\n",
        "from PIL import Image\n",
        "import os, sys\n",
        "path = '/content/gdrive/My Drive/Mask_Rcnn/Fg-Bg-Mask-Deeksha'\n",
        "dirs=os.listdir(path)\n",
        "for file in dirs:\n",
        "  count1=count1+1\n",
        "print(count1)"
      ],
      "execution_count": 17,
      "outputs": [
        {
          "output_type": "stream",
          "text": [
            "11200\n"
          ],
          "name": "stdout"
        }
      ]
    }
  ]
}